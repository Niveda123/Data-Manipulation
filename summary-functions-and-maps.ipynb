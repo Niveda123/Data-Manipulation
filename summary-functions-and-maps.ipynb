{
 "cells": [
  {
   "cell_type": "markdown",
   "id": "2fce559f",
   "metadata": {
    "papermill": {
     "duration": 0.007556,
     "end_time": "2022-10-15T10:23:49.665931",
     "exception": false,
     "start_time": "2022-10-15T10:23:49.658375",
     "status": "completed"
    },
    "tags": []
   },
   "source": [
    "**This notebook is an exercise in the [Pandas](https://www.kaggle.com/learn/pandas) course.  You can reference the tutorial at [this link](https://www.kaggle.com/residentmario/summary-functions-and-maps).**\n",
    "\n",
    "---\n"
   ]
  },
  {
   "cell_type": "markdown",
   "id": "84e20282",
   "metadata": {
    "papermill": {
     "duration": 0.005992,
     "end_time": "2022-10-15T10:23:49.678406",
     "exception": false,
     "start_time": "2022-10-15T10:23:49.672414",
     "status": "completed"
    },
    "tags": []
   },
   "source": [
    "# Introduction\n",
    "\n",
    "Now you are ready to get a deeper understanding of your data.\n",
    "\n",
    "Run the following cell to load your data and some utility functions (including code to check your answers)."
   ]
  },
  {
   "cell_type": "code",
   "execution_count": 1,
   "id": "aabe3b99",
   "metadata": {
    "execution": {
     "iopub.execute_input": "2022-10-15T10:23:49.694005Z",
     "iopub.status.busy": "2022-10-15T10:23:49.693194Z",
     "iopub.status.idle": "2022-10-15T10:23:56.945382Z",
     "shell.execute_reply": "2022-10-15T10:23:56.944361Z"
    },
    "papermill": {
     "duration": 7.265903,
     "end_time": "2022-10-15T10:23:56.950611",
     "exception": false,
     "start_time": "2022-10-15T10:23:49.684708",
     "status": "completed"
    },
    "tags": []
   },
   "outputs": [
    {
     "name": "stdout",
     "output_type": "stream",
     "text": [
      "Setup complete.\n"
     ]
    },
    {
     "data": {
      "text/html": [
       "<div>\n",
       "<style scoped>\n",
       "    .dataframe tbody tr th:only-of-type {\n",
       "        vertical-align: middle;\n",
       "    }\n",
       "\n",
       "    .dataframe tbody tr th {\n",
       "        vertical-align: top;\n",
       "    }\n",
       "\n",
       "    .dataframe thead th {\n",
       "        text-align: right;\n",
       "    }\n",
       "</style>\n",
       "<table border=\"1\" class=\"dataframe\">\n",
       "  <thead>\n",
       "    <tr style=\"text-align: right;\">\n",
       "      <th></th>\n",
       "      <th>country</th>\n",
       "      <th>description</th>\n",
       "      <th>designation</th>\n",
       "      <th>points</th>\n",
       "      <th>price</th>\n",
       "      <th>province</th>\n",
       "      <th>region_1</th>\n",
       "      <th>region_2</th>\n",
       "      <th>taster_name</th>\n",
       "      <th>taster_twitter_handle</th>\n",
       "      <th>title</th>\n",
       "      <th>variety</th>\n",
       "      <th>winery</th>\n",
       "    </tr>\n",
       "  </thead>\n",
       "  <tbody>\n",
       "    <tr>\n",
       "      <th>0</th>\n",
       "      <td>Italy</td>\n",
       "      <td>Aromas include tropical fruit, broom, brimston...</td>\n",
       "      <td>Vulkà Bianco</td>\n",
       "      <td>87</td>\n",
       "      <td>NaN</td>\n",
       "      <td>Sicily &amp; Sardinia</td>\n",
       "      <td>Etna</td>\n",
       "      <td>NaN</td>\n",
       "      <td>Kerin O’Keefe</td>\n",
       "      <td>@kerinokeefe</td>\n",
       "      <td>Nicosia 2013 Vulkà Bianco  (Etna)</td>\n",
       "      <td>White Blend</td>\n",
       "      <td>Nicosia</td>\n",
       "    </tr>\n",
       "    <tr>\n",
       "      <th>1</th>\n",
       "      <td>Portugal</td>\n",
       "      <td>This is ripe and fruity, a wine that is smooth...</td>\n",
       "      <td>Avidagos</td>\n",
       "      <td>87</td>\n",
       "      <td>15.0</td>\n",
       "      <td>Douro</td>\n",
       "      <td>NaN</td>\n",
       "      <td>NaN</td>\n",
       "      <td>Roger Voss</td>\n",
       "      <td>@vossroger</td>\n",
       "      <td>Quinta dos Avidagos 2011 Avidagos Red (Douro)</td>\n",
       "      <td>Portuguese Red</td>\n",
       "      <td>Quinta dos Avidagos</td>\n",
       "    </tr>\n",
       "    <tr>\n",
       "      <th>2</th>\n",
       "      <td>US</td>\n",
       "      <td>Tart and snappy, the flavors of lime flesh and...</td>\n",
       "      <td>NaN</td>\n",
       "      <td>87</td>\n",
       "      <td>14.0</td>\n",
       "      <td>Oregon</td>\n",
       "      <td>Willamette Valley</td>\n",
       "      <td>Willamette Valley</td>\n",
       "      <td>Paul Gregutt</td>\n",
       "      <td>@paulgwine</td>\n",
       "      <td>Rainstorm 2013 Pinot Gris (Willamette Valley)</td>\n",
       "      <td>Pinot Gris</td>\n",
       "      <td>Rainstorm</td>\n",
       "    </tr>\n",
       "    <tr>\n",
       "      <th>3</th>\n",
       "      <td>US</td>\n",
       "      <td>Pineapple rind, lemon pith and orange blossom ...</td>\n",
       "      <td>Reserve Late Harvest</td>\n",
       "      <td>87</td>\n",
       "      <td>13.0</td>\n",
       "      <td>Michigan</td>\n",
       "      <td>Lake Michigan Shore</td>\n",
       "      <td>NaN</td>\n",
       "      <td>Alexander Peartree</td>\n",
       "      <td>NaN</td>\n",
       "      <td>St. Julian 2013 Reserve Late Harvest Riesling ...</td>\n",
       "      <td>Riesling</td>\n",
       "      <td>St. Julian</td>\n",
       "    </tr>\n",
       "    <tr>\n",
       "      <th>4</th>\n",
       "      <td>US</td>\n",
       "      <td>Much like the regular bottling from 2012, this...</td>\n",
       "      <td>Vintner's Reserve Wild Child Block</td>\n",
       "      <td>87</td>\n",
       "      <td>65.0</td>\n",
       "      <td>Oregon</td>\n",
       "      <td>Willamette Valley</td>\n",
       "      <td>Willamette Valley</td>\n",
       "      <td>Paul Gregutt</td>\n",
       "      <td>@paulgwine</td>\n",
       "      <td>Sweet Cheeks 2012 Vintner's Reserve Wild Child...</td>\n",
       "      <td>Pinot Noir</td>\n",
       "      <td>Sweet Cheeks</td>\n",
       "    </tr>\n",
       "  </tbody>\n",
       "</table>\n",
       "</div>"
      ],
      "text/plain": [
       "    country                                        description  \\\n",
       "0     Italy  Aromas include tropical fruit, broom, brimston...   \n",
       "1  Portugal  This is ripe and fruity, a wine that is smooth...   \n",
       "2        US  Tart and snappy, the flavors of lime flesh and...   \n",
       "3        US  Pineapple rind, lemon pith and orange blossom ...   \n",
       "4        US  Much like the regular bottling from 2012, this...   \n",
       "\n",
       "                          designation  points  price           province  \\\n",
       "0                        Vulkà Bianco      87    NaN  Sicily & Sardinia   \n",
       "1                            Avidagos      87   15.0              Douro   \n",
       "2                                 NaN      87   14.0             Oregon   \n",
       "3                Reserve Late Harvest      87   13.0           Michigan   \n",
       "4  Vintner's Reserve Wild Child Block      87   65.0             Oregon   \n",
       "\n",
       "              region_1           region_2         taster_name  \\\n",
       "0                 Etna                NaN       Kerin O’Keefe   \n",
       "1                  NaN                NaN          Roger Voss   \n",
       "2    Willamette Valley  Willamette Valley        Paul Gregutt   \n",
       "3  Lake Michigan Shore                NaN  Alexander Peartree   \n",
       "4    Willamette Valley  Willamette Valley        Paul Gregutt   \n",
       "\n",
       "  taster_twitter_handle                                              title  \\\n",
       "0          @kerinokeefe                  Nicosia 2013 Vulkà Bianco  (Etna)   \n",
       "1            @vossroger      Quinta dos Avidagos 2011 Avidagos Red (Douro)   \n",
       "2           @paulgwine       Rainstorm 2013 Pinot Gris (Willamette Valley)   \n",
       "3                   NaN  St. Julian 2013 Reserve Late Harvest Riesling ...   \n",
       "4           @paulgwine   Sweet Cheeks 2012 Vintner's Reserve Wild Child...   \n",
       "\n",
       "          variety               winery  \n",
       "0     White Blend              Nicosia  \n",
       "1  Portuguese Red  Quinta dos Avidagos  \n",
       "2      Pinot Gris            Rainstorm  \n",
       "3        Riesling           St. Julian  \n",
       "4      Pinot Noir         Sweet Cheeks  "
      ]
     },
     "execution_count": 1,
     "metadata": {},
     "output_type": "execute_result"
    }
   ],
   "source": [
    "import pandas as pd\n",
    "pd.set_option(\"display.max_rows\", 5)\n",
    "reviews = pd.read_csv(\"../input/wine-reviews/winemag-data-130k-v2.csv\", index_col=0)\n",
    "\n",
    "from learntools.core import binder; binder.bind(globals())\n",
    "from learntools.pandas.summary_functions_and_maps import *\n",
    "print(\"Setup complete.\")\n",
    "\n",
    "reviews.head()"
   ]
  },
  {
   "cell_type": "markdown",
   "id": "c2ffad9d",
   "metadata": {
    "papermill": {
     "duration": 0.006436,
     "end_time": "2022-10-15T10:23:56.964115",
     "exception": false,
     "start_time": "2022-10-15T10:23:56.957679",
     "status": "completed"
    },
    "tags": []
   },
   "source": [
    "# Exercises"
   ]
  },
  {
   "cell_type": "markdown",
   "id": "470d2adc",
   "metadata": {
    "papermill": {
     "duration": 0.006044,
     "end_time": "2022-10-15T10:23:56.976601",
     "exception": false,
     "start_time": "2022-10-15T10:23:56.970557",
     "status": "completed"
    },
    "tags": []
   },
   "source": [
    "## 1.\n",
    "\n",
    "What is the median of the `points` column in the `reviews` DataFrame?"
   ]
  },
  {
   "cell_type": "code",
   "execution_count": 2,
   "id": "de835da9",
   "metadata": {
    "execution": {
     "iopub.execute_input": "2022-10-15T10:23:56.992055Z",
     "iopub.status.busy": "2022-10-15T10:23:56.991551Z",
     "iopub.status.idle": "2022-10-15T10:23:57.003601Z",
     "shell.execute_reply": "2022-10-15T10:23:57.002352Z"
    },
    "papermill": {
     "duration": 0.022871,
     "end_time": "2022-10-15T10:23:57.006240",
     "exception": false,
     "start_time": "2022-10-15T10:23:56.983369",
     "status": "completed"
    },
    "tags": []
   },
   "outputs": [
    {
     "data": {
      "application/javascript": [
       "parent.postMessage({\"jupyterEvent\": \"custom.exercise_interaction\", \"data\": {\"outcomeType\": 1, \"valueTowardsCompletion\": 0.14285714285714285, \"interactionType\": 1, \"questionType\": 1, \"questionId\": \"1_MedianPoints\", \"learnToolsVersion\": \"0.3.4\", \"failureMessage\": \"\", \"exceptionClass\": \"\", \"trace\": \"\"}}, \"*\")"
      ],
      "text/plain": [
       "<IPython.core.display.Javascript object>"
      ]
     },
     "metadata": {},
     "output_type": "display_data"
    },
    {
     "data": {
      "text/markdown": [
       "<span style=\"color:#33cc33\">Correct</span>"
      ],
      "text/plain": [
       "Correct"
      ]
     },
     "metadata": {},
     "output_type": "display_data"
    }
   ],
   "source": [
    "median_points = reviews.points.median()\n",
    "\n",
    "# Check your answer\n",
    "q1.check()"
   ]
  },
  {
   "cell_type": "code",
   "execution_count": 3,
   "id": "108f91ad",
   "metadata": {
    "execution": {
     "iopub.execute_input": "2022-10-15T10:23:57.022111Z",
     "iopub.status.busy": "2022-10-15T10:23:57.021346Z",
     "iopub.status.idle": "2022-10-15T10:23:57.025582Z",
     "shell.execute_reply": "2022-10-15T10:23:57.024424Z"
    },
    "papermill": {
     "duration": 0.01508,
     "end_time": "2022-10-15T10:23:57.028275",
     "exception": false,
     "start_time": "2022-10-15T10:23:57.013195",
     "status": "completed"
    },
    "tags": []
   },
   "outputs": [],
   "source": [
    "#q1.hint()\n",
    "#q1.solution()"
   ]
  },
  {
   "cell_type": "markdown",
   "id": "6797c69d",
   "metadata": {
    "papermill": {
     "duration": 0.006442,
     "end_time": "2022-10-15T10:23:57.041669",
     "exception": false,
     "start_time": "2022-10-15T10:23:57.035227",
     "status": "completed"
    },
    "tags": []
   },
   "source": [
    "## 2. \n",
    "What countries are represented in the dataset? (Your answer should not include any duplicates.)"
   ]
  },
  {
   "cell_type": "code",
   "execution_count": 4,
   "id": "d14840cf",
   "metadata": {
    "execution": {
     "iopub.execute_input": "2022-10-15T10:23:57.057240Z",
     "iopub.status.busy": "2022-10-15T10:23:57.056796Z",
     "iopub.status.idle": "2022-10-15T10:23:57.073642Z",
     "shell.execute_reply": "2022-10-15T10:23:57.072512Z"
    },
    "papermill": {
     "duration": 0.027312,
     "end_time": "2022-10-15T10:23:57.076069",
     "exception": false,
     "start_time": "2022-10-15T10:23:57.048757",
     "status": "completed"
    },
    "tags": []
   },
   "outputs": [
    {
     "data": {
      "application/javascript": [
       "parent.postMessage({\"jupyterEvent\": \"custom.exercise_interaction\", \"data\": {\"outcomeType\": 1, \"valueTowardsCompletion\": 0.14285714285714285, \"interactionType\": 1, \"questionType\": 2, \"questionId\": \"2_UniqueCountries\", \"learnToolsVersion\": \"0.3.4\", \"failureMessage\": \"\", \"exceptionClass\": \"\", \"trace\": \"\"}}, \"*\")"
      ],
      "text/plain": [
       "<IPython.core.display.Javascript object>"
      ]
     },
     "metadata": {},
     "output_type": "display_data"
    },
    {
     "data": {
      "text/markdown": [
       "<span style=\"color:#33cc33\">Correct</span>"
      ],
      "text/plain": [
       "Correct"
      ]
     },
     "metadata": {},
     "output_type": "display_data"
    }
   ],
   "source": [
    "countries = reviews.country.unique()\n",
    "\n",
    "# Check your answer\n",
    "q2.check()"
   ]
  },
  {
   "cell_type": "code",
   "execution_count": 5,
   "id": "49a7597f",
   "metadata": {
    "execution": {
     "iopub.execute_input": "2022-10-15T10:23:57.092661Z",
     "iopub.status.busy": "2022-10-15T10:23:57.092212Z",
     "iopub.status.idle": "2022-10-15T10:23:57.097696Z",
     "shell.execute_reply": "2022-10-15T10:23:57.096422Z"
    },
    "papermill": {
     "duration": 0.016977,
     "end_time": "2022-10-15T10:23:57.100153",
     "exception": false,
     "start_time": "2022-10-15T10:23:57.083176",
     "status": "completed"
    },
    "tags": []
   },
   "outputs": [],
   "source": [
    "#q2.hint()\n",
    "#q2.solution()"
   ]
  },
  {
   "cell_type": "markdown",
   "id": "cc6f2852",
   "metadata": {
    "papermill": {
     "duration": 0.006667,
     "end_time": "2022-10-15T10:23:57.113949",
     "exception": false,
     "start_time": "2022-10-15T10:23:57.107282",
     "status": "completed"
    },
    "tags": []
   },
   "source": [
    "## 3.\n",
    "How often does each country appear in the dataset? Create a Series `reviews_per_country` mapping countries to the count of reviews of wines from that country."
   ]
  },
  {
   "cell_type": "code",
   "execution_count": 6,
   "id": "ec460f2d",
   "metadata": {
    "execution": {
     "iopub.execute_input": "2022-10-15T10:23:57.131348Z",
     "iopub.status.busy": "2022-10-15T10:23:57.130288Z",
     "iopub.status.idle": "2022-10-15T10:23:57.149743Z",
     "shell.execute_reply": "2022-10-15T10:23:57.148344Z"
    },
    "papermill": {
     "duration": 0.030303,
     "end_time": "2022-10-15T10:23:57.152250",
     "exception": false,
     "start_time": "2022-10-15T10:23:57.121947",
     "status": "completed"
    },
    "tags": []
   },
   "outputs": [
    {
     "data": {
      "application/javascript": [
       "parent.postMessage({\"jupyterEvent\": \"custom.exercise_interaction\", \"data\": {\"outcomeType\": 1, \"valueTowardsCompletion\": 0.14285714285714285, \"interactionType\": 1, \"questionType\": 1, \"questionId\": \"3_ReviewsPerCountry\", \"learnToolsVersion\": \"0.3.4\", \"failureMessage\": \"\", \"exceptionClass\": \"\", \"trace\": \"\"}}, \"*\")"
      ],
      "text/plain": [
       "<IPython.core.display.Javascript object>"
      ]
     },
     "metadata": {},
     "output_type": "display_data"
    },
    {
     "data": {
      "text/markdown": [
       "<span style=\"color:#33cc33\">Correct</span>"
      ],
      "text/plain": [
       "Correct"
      ]
     },
     "metadata": {},
     "output_type": "display_data"
    }
   ],
   "source": [
    "reviews_per_country = reviews.country.value_counts()\n",
    "\n",
    "# Check your answer\n",
    "q3.check()"
   ]
  },
  {
   "cell_type": "code",
   "execution_count": 7,
   "id": "a91c9d62",
   "metadata": {
    "execution": {
     "iopub.execute_input": "2022-10-15T10:23:57.169035Z",
     "iopub.status.busy": "2022-10-15T10:23:57.168553Z",
     "iopub.status.idle": "2022-10-15T10:23:57.173689Z",
     "shell.execute_reply": "2022-10-15T10:23:57.172577Z"
    },
    "papermill": {
     "duration": 0.016734,
     "end_time": "2022-10-15T10:23:57.176259",
     "exception": false,
     "start_time": "2022-10-15T10:23:57.159525",
     "status": "completed"
    },
    "tags": []
   },
   "outputs": [],
   "source": [
    "#q3.hint()\n",
    "#q3.solution()"
   ]
  },
  {
   "cell_type": "markdown",
   "id": "de263c5b",
   "metadata": {
    "papermill": {
     "duration": 0.007006,
     "end_time": "2022-10-15T10:23:57.190633",
     "exception": false,
     "start_time": "2022-10-15T10:23:57.183627",
     "status": "completed"
    },
    "tags": []
   },
   "source": [
    "## 4.\n",
    "Create variable `centered_price` containing a version of the `price` column with the mean price subtracted.\n",
    "\n",
    "(Note: this 'centering' transformation is a common preprocessing step before applying various machine learning algorithms.) "
   ]
  },
  {
   "cell_type": "code",
   "execution_count": 8,
   "id": "0f1a71a8",
   "metadata": {
    "execution": {
     "iopub.execute_input": "2022-10-15T10:23:57.207042Z",
     "iopub.status.busy": "2022-10-15T10:23:57.206609Z",
     "iopub.status.idle": "2022-10-15T10:23:57.218917Z",
     "shell.execute_reply": "2022-10-15T10:23:57.217699Z"
    },
    "papermill": {
     "duration": 0.023382,
     "end_time": "2022-10-15T10:23:57.221371",
     "exception": false,
     "start_time": "2022-10-15T10:23:57.197989",
     "status": "completed"
    },
    "tags": []
   },
   "outputs": [
    {
     "data": {
      "application/javascript": [
       "parent.postMessage({\"jupyterEvent\": \"custom.exercise_interaction\", \"data\": {\"outcomeType\": 1, \"valueTowardsCompletion\": 0.14285714285714285, \"interactionType\": 1, \"questionType\": 1, \"questionId\": \"4_CenteredPrice\", \"learnToolsVersion\": \"0.3.4\", \"failureMessage\": \"\", \"exceptionClass\": \"\", \"trace\": \"\"}}, \"*\")"
      ],
      "text/plain": [
       "<IPython.core.display.Javascript object>"
      ]
     },
     "metadata": {},
     "output_type": "display_data"
    },
    {
     "data": {
      "text/markdown": [
       "<span style=\"color:#33cc33\">Correct</span>"
      ],
      "text/plain": [
       "Correct"
      ]
     },
     "metadata": {},
     "output_type": "display_data"
    }
   ],
   "source": [
    "centered_price = reviews.price - reviews.price.mean()\n",
    "\n",
    "# Check your answer\n",
    "q4.check()"
   ]
  },
  {
   "cell_type": "code",
   "execution_count": 9,
   "id": "531d4a3a",
   "metadata": {
    "execution": {
     "iopub.execute_input": "2022-10-15T10:23:57.238334Z",
     "iopub.status.busy": "2022-10-15T10:23:57.237929Z",
     "iopub.status.idle": "2022-10-15T10:23:57.242619Z",
     "shell.execute_reply": "2022-10-15T10:23:57.241343Z"
    },
    "papermill": {
     "duration": 0.016037,
     "end_time": "2022-10-15T10:23:57.245019",
     "exception": false,
     "start_time": "2022-10-15T10:23:57.228982",
     "status": "completed"
    },
    "tags": []
   },
   "outputs": [],
   "source": [
    "#q4.hint()\n",
    "#q4.solution()"
   ]
  },
  {
   "cell_type": "markdown",
   "id": "88a2be50",
   "metadata": {
    "papermill": {
     "duration": 0.007258,
     "end_time": "2022-10-15T10:23:57.259881",
     "exception": false,
     "start_time": "2022-10-15T10:23:57.252623",
     "status": "completed"
    },
    "tags": []
   },
   "source": [
    "## 5.\n",
    "I'm an economical wine buyer. Which wine is the \"best bargain\"? Create a variable `bargain_wine` with the title of the wine with the highest points-to-price ratio in the dataset."
   ]
  },
  {
   "cell_type": "code",
   "execution_count": 10,
   "id": "bcda79c2",
   "metadata": {
    "execution": {
     "iopub.execute_input": "2022-10-15T10:23:57.276733Z",
     "iopub.status.busy": "2022-10-15T10:23:57.276331Z",
     "iopub.status.idle": "2022-10-15T10:23:57.290397Z",
     "shell.execute_reply": "2022-10-15T10:23:57.289184Z"
    },
    "papermill": {
     "duration": 0.025337,
     "end_time": "2022-10-15T10:23:57.292817",
     "exception": false,
     "start_time": "2022-10-15T10:23:57.267480",
     "status": "completed"
    },
    "tags": []
   },
   "outputs": [
    {
     "data": {
      "application/javascript": [
       "parent.postMessage({\"jupyterEvent\": \"custom.exercise_interaction\", \"data\": {\"outcomeType\": 1, \"valueTowardsCompletion\": 0.14285714285714285, \"interactionType\": 1, \"questionType\": 2, \"questionId\": \"5_BargainWine\", \"learnToolsVersion\": \"0.3.4\", \"failureMessage\": \"\", \"exceptionClass\": \"\", \"trace\": \"\"}}, \"*\")"
      ],
      "text/plain": [
       "<IPython.core.display.Javascript object>"
      ]
     },
     "metadata": {},
     "output_type": "display_data"
    },
    {
     "data": {
      "text/markdown": [
       "<span style=\"color:#33cc33\">Correct</span>"
      ],
      "text/plain": [
       "Correct"
      ]
     },
     "metadata": {},
     "output_type": "display_data"
    }
   ],
   "source": [
    "bargain_idx = (reviews.points / reviews.price).idxmax()\n",
    "bargain_wine = reviews.loc[bargain_idx, 'title']\n",
    "\n",
    "# Check your answer\n",
    "q5.check()"
   ]
  },
  {
   "cell_type": "code",
   "execution_count": 11,
   "id": "625ddbba",
   "metadata": {
    "execution": {
     "iopub.execute_input": "2022-10-15T10:23:57.310225Z",
     "iopub.status.busy": "2022-10-15T10:23:57.309814Z",
     "iopub.status.idle": "2022-10-15T10:23:57.314377Z",
     "shell.execute_reply": "2022-10-15T10:23:57.313385Z"
    },
    "papermill": {
     "duration": 0.016144,
     "end_time": "2022-10-15T10:23:57.316663",
     "exception": false,
     "start_time": "2022-10-15T10:23:57.300519",
     "status": "completed"
    },
    "tags": []
   },
   "outputs": [],
   "source": [
    "#q5.hint()\n",
    "#q5.solution()"
   ]
  },
  {
   "cell_type": "markdown",
   "id": "2698ae04",
   "metadata": {
    "papermill": {
     "duration": 0.007452,
     "end_time": "2022-10-15T10:23:57.332150",
     "exception": false,
     "start_time": "2022-10-15T10:23:57.324698",
     "status": "completed"
    },
    "tags": []
   },
   "source": [
    "## 6.\n",
    "There are only so many words you can use when describing a bottle of wine. Is a wine more likely to be \"tropical\" or \"fruity\"? Create a Series `descriptor_counts` counting how many times each of these two words appears in the `description` column in the dataset. (For simplicity, let's ignore the capitalized versions of these words.)"
   ]
  },
  {
   "cell_type": "code",
   "execution_count": 12,
   "id": "83dbb21e",
   "metadata": {
    "execution": {
     "iopub.execute_input": "2022-10-15T10:23:57.349704Z",
     "iopub.status.busy": "2022-10-15T10:23:57.349287Z",
     "iopub.status.idle": "2022-10-15T10:23:57.494436Z",
     "shell.execute_reply": "2022-10-15T10:23:57.493267Z"
    },
    "papermill": {
     "duration": 0.157084,
     "end_time": "2022-10-15T10:23:57.497020",
     "exception": false,
     "start_time": "2022-10-15T10:23:57.339936",
     "status": "completed"
    },
    "tags": []
   },
   "outputs": [
    {
     "data": {
      "application/javascript": [
       "parent.postMessage({\"jupyterEvent\": \"custom.exercise_interaction\", \"data\": {\"outcomeType\": 1, \"valueTowardsCompletion\": 0.14285714285714285, \"interactionType\": 1, \"questionType\": 1, \"questionId\": \"6_DescriptorCounts\", \"learnToolsVersion\": \"0.3.4\", \"failureMessage\": \"\", \"exceptionClass\": \"\", \"trace\": \"\"}}, \"*\")"
      ],
      "text/plain": [
       "<IPython.core.display.Javascript object>"
      ]
     },
     "metadata": {},
     "output_type": "display_data"
    },
    {
     "data": {
      "text/markdown": [
       "<span style=\"color:#33cc33\">Correct</span>"
      ],
      "text/plain": [
       "Correct"
      ]
     },
     "metadata": {},
     "output_type": "display_data"
    }
   ],
   "source": [
    "n_trop = reviews.description.map(lambda desc: \"tropical\" in desc).sum()\n",
    "n_fruity = reviews.description.map(lambda desc: \"fruity\" in desc).sum()\n",
    "descriptor_counts = pd.Series([n_trop, n_fruity], index=['tropical', 'fruity'])\n",
    "\n",
    "# Check your answer\n",
    "q6.check()"
   ]
  },
  {
   "cell_type": "code",
   "execution_count": 13,
   "id": "fcb0a340",
   "metadata": {
    "execution": {
     "iopub.execute_input": "2022-10-15T10:23:57.515278Z",
     "iopub.status.busy": "2022-10-15T10:23:57.514878Z",
     "iopub.status.idle": "2022-10-15T10:23:57.519499Z",
     "shell.execute_reply": "2022-10-15T10:23:57.518303Z"
    },
    "papermill": {
     "duration": 0.016739,
     "end_time": "2022-10-15T10:23:57.521926",
     "exception": false,
     "start_time": "2022-10-15T10:23:57.505187",
     "status": "completed"
    },
    "tags": []
   },
   "outputs": [],
   "source": [
    "#q6.hint()\n",
    "#q6.solution()"
   ]
  },
  {
   "cell_type": "markdown",
   "id": "157e37ee",
   "metadata": {
    "papermill": {
     "duration": 0.007601,
     "end_time": "2022-10-15T10:23:57.537534",
     "exception": false,
     "start_time": "2022-10-15T10:23:57.529933",
     "status": "completed"
    },
    "tags": []
   },
   "source": [
    "## 7.\n",
    "We'd like to host these wine reviews on our website, but a rating system ranging from 80 to 100 points is too hard to understand - we'd like to translate them into simple star ratings. A score of 95 or higher counts as 3 stars, a score of at least 85 but less than 95 is 2 stars. Any other score is 1 star.\n",
    "\n",
    "Also, the Canadian Vintners Association bought a lot of ads on the site, so any wines from Canada should automatically get 3 stars, regardless of points.\n",
    "\n",
    "Create a series `star_ratings` with the number of stars corresponding to each review in the dataset."
   ]
  },
  {
   "cell_type": "code",
   "execution_count": 14,
   "id": "17003c93",
   "metadata": {
    "execution": {
     "iopub.execute_input": "2022-10-15T10:23:57.555621Z",
     "iopub.status.busy": "2022-10-15T10:23:57.555227Z",
     "iopub.status.idle": "2022-10-15T10:24:01.782203Z",
     "shell.execute_reply": "2022-10-15T10:24:01.780905Z"
    },
    "papermill": {
     "duration": 4.239238,
     "end_time": "2022-10-15T10:24:01.784824",
     "exception": false,
     "start_time": "2022-10-15T10:23:57.545586",
     "status": "completed"
    },
    "tags": []
   },
   "outputs": [
    {
     "data": {
      "application/javascript": [
       "parent.postMessage({\"jupyterEvent\": \"custom.exercise_interaction\", \"data\": {\"outcomeType\": 1, \"valueTowardsCompletion\": 0.14285714285714285, \"interactionType\": 1, \"questionType\": 1, \"questionId\": \"7_StarRatings\", \"learnToolsVersion\": \"0.3.4\", \"failureMessage\": \"\", \"exceptionClass\": \"\", \"trace\": \"\"}}, \"*\")"
      ],
      "text/plain": [
       "<IPython.core.display.Javascript object>"
      ]
     },
     "metadata": {},
     "output_type": "display_data"
    },
    {
     "data": {
      "text/markdown": [
       "<span style=\"color:#33cc33\">Correct</span>"
      ],
      "text/plain": [
       "Correct"
      ]
     },
     "metadata": {},
     "output_type": "display_data"
    }
   ],
   "source": [
    "def stars(row):\n",
    "    if row.country == 'Canada':\n",
    "        return 3\n",
    "    elif row.points >= 95:\n",
    "        return 3\n",
    "    elif row.points >= 85:\n",
    "        return 2\n",
    "    else:\n",
    "        return 1\n",
    "\n",
    "star_ratings = reviews.apply(stars, axis='columns')\n",
    "\n",
    "# Check your answer\n",
    "q7.check()"
   ]
  },
  {
   "cell_type": "code",
   "execution_count": 15,
   "id": "fcc2d522",
   "metadata": {
    "execution": {
     "iopub.execute_input": "2022-10-15T10:24:01.804573Z",
     "iopub.status.busy": "2022-10-15T10:24:01.803649Z",
     "iopub.status.idle": "2022-10-15T10:24:01.808687Z",
     "shell.execute_reply": "2022-10-15T10:24:01.807716Z"
    },
    "papermill": {
     "duration": 0.017974,
     "end_time": "2022-10-15T10:24:01.811463",
     "exception": false,
     "start_time": "2022-10-15T10:24:01.793489",
     "status": "completed"
    },
    "tags": []
   },
   "outputs": [],
   "source": [
    "#q7.hint()\n",
    "#q7.solution()"
   ]
  },
  {
   "cell_type": "markdown",
   "id": "9b61c19e",
   "metadata": {
    "papermill": {
     "duration": 0.007918,
     "end_time": "2022-10-15T10:24:01.827676",
     "exception": false,
     "start_time": "2022-10-15T10:24:01.819758",
     "status": "completed"
    },
    "tags": []
   },
   "source": [
    "# Keep going\n",
    "Continue to **[grouping and sorting](https://www.kaggle.com/residentmario/grouping-and-sorting)**."
   ]
  },
  {
   "cell_type": "markdown",
   "id": "945c5c8b",
   "metadata": {
    "papermill": {
     "duration": 0.007814,
     "end_time": "2022-10-15T10:24:01.843810",
     "exception": false,
     "start_time": "2022-10-15T10:24:01.835996",
     "status": "completed"
    },
    "tags": []
   },
   "source": [
    "---\n",
    "\n",
    "\n",
    "\n",
    "\n",
    "*Have questions or comments? Visit the [course discussion forum](https://www.kaggle.com/learn/pandas/discussion) to chat with other learners.*"
   ]
  }
 ],
 "metadata": {
  "kernelspec": {
   "display_name": "Python 3",
   "language": "python",
   "name": "python3"
  },
  "language_info": {
   "codemirror_mode": {
    "name": "ipython",
    "version": 3
   },
   "file_extension": ".py",
   "mimetype": "text/x-python",
   "name": "python",
   "nbconvert_exporter": "python",
   "pygments_lexer": "ipython3",
   "version": "3.7.12"
  },
  "papermill": {
   "default_parameters": {},
   "duration": 22.829141,
   "end_time": "2022-10-15T10:24:02.574539",
   "environment_variables": {},
   "exception": null,
   "input_path": "__notebook__.ipynb",
   "output_path": "__notebook__.ipynb",
   "parameters": {},
   "start_time": "2022-10-15T10:23:39.745398",
   "version": "2.3.4"
  }
 },
 "nbformat": 4,
 "nbformat_minor": 5
}
