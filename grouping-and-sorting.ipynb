{
 "cells": [
  {
   "cell_type": "markdown",
   "id": "467097ee",
   "metadata": {
    "papermill": {
     "duration": 0.007587,
     "end_time": "2022-10-15T10:30:50.379863",
     "exception": false,
     "start_time": "2022-10-15T10:30:50.372276",
     "status": "completed"
    },
    "tags": []
   },
   "source": [
    "**This notebook is an exercise in the [Pandas](https://www.kaggle.com/learn/pandas) course.  You can reference the tutorial at [this link](https://www.kaggle.com/residentmario/grouping-and-sorting).**\n",
    "\n",
    "---\n"
   ]
  },
  {
   "cell_type": "markdown",
   "id": "c662f118",
   "metadata": {
    "papermill": {
     "duration": 0.005746,
     "end_time": "2022-10-15T10:30:50.391830",
     "exception": false,
     "start_time": "2022-10-15T10:30:50.386084",
     "status": "completed"
    },
    "tags": []
   },
   "source": [
    "# Introduction\n",
    "\n",
    "In these exercises we'll apply groupwise analysis to our dataset.\n",
    "\n",
    "Run the code cell below to load the data before running the exercises."
   ]
  },
  {
   "cell_type": "code",
   "execution_count": 1,
   "id": "062b9ff1",
   "metadata": {
    "execution": {
     "iopub.execute_input": "2022-10-15T10:30:50.408233Z",
     "iopub.status.busy": "2022-10-15T10:30:50.407046Z",
     "iopub.status.idle": "2022-10-15T10:30:53.397739Z",
     "shell.execute_reply": "2022-10-15T10:30:53.395916Z"
    },
    "papermill": {
     "duration": 3.002365,
     "end_time": "2022-10-15T10:30:53.400357",
     "exception": false,
     "start_time": "2022-10-15T10:30:50.397992",
     "status": "completed"
    },
    "tags": []
   },
   "outputs": [
    {
     "name": "stdout",
     "output_type": "stream",
     "text": [
      "Setup complete.\n"
     ]
    }
   ],
   "source": [
    "import pandas as pd\n",
    "\n",
    "reviews = pd.read_csv(\"../input/wine-reviews/winemag-data-130k-v2.csv\", index_col=0)\n",
    "#pd.set_option(\"display.max_rows\", 5)\n",
    "\n",
    "from learntools.core import binder; binder.bind(globals())\n",
    "from learntools.pandas.grouping_and_sorting import *\n",
    "print(\"Setup complete.\")"
   ]
  },
  {
   "cell_type": "markdown",
   "id": "5af5214b",
   "metadata": {
    "papermill": {
     "duration": 0.006112,
     "end_time": "2022-10-15T10:30:53.412563",
     "exception": false,
     "start_time": "2022-10-15T10:30:53.406451",
     "status": "completed"
    },
    "tags": []
   },
   "source": [
    "# Exercises"
   ]
  },
  {
   "cell_type": "markdown",
   "id": "3a571439",
   "metadata": {
    "papermill": {
     "duration": 0.006211,
     "end_time": "2022-10-15T10:30:53.425221",
     "exception": false,
     "start_time": "2022-10-15T10:30:53.419010",
     "status": "completed"
    },
    "tags": []
   },
   "source": [
    "## 1.\n",
    "Who are the most common wine reviewers in the dataset? Create a `Series` whose index is the `taster_twitter_handle` category from the dataset, and whose values count how many reviews each person wrote."
   ]
  },
  {
   "cell_type": "code",
   "execution_count": 2,
   "id": "ae960ade",
   "metadata": {
    "execution": {
     "iopub.execute_input": "2022-10-15T10:30:53.439159Z",
     "iopub.status.busy": "2022-10-15T10:30:53.438778Z",
     "iopub.status.idle": "2022-10-15T10:30:53.463030Z",
     "shell.execute_reply": "2022-10-15T10:30:53.461760Z"
    },
    "papermill": {
     "duration": 0.03409,
     "end_time": "2022-10-15T10:30:53.465431",
     "exception": false,
     "start_time": "2022-10-15T10:30:53.431341",
     "status": "completed"
    },
    "tags": []
   },
   "outputs": [
    {
     "data": {
      "application/javascript": [
       "parent.postMessage({\"jupyterEvent\": \"custom.exercise_interaction\", \"data\": {\"outcomeType\": 1, \"valueTowardsCompletion\": 0.16666666666666666, \"interactionType\": 1, \"questionType\": 1, \"questionId\": \"1_ReviewsWritten\", \"learnToolsVersion\": \"0.3.4\", \"failureMessage\": \"\", \"exceptionClass\": \"\", \"trace\": \"\"}}, \"*\")"
      ],
      "text/plain": [
       "<IPython.core.display.Javascript object>"
      ]
     },
     "metadata": {},
     "output_type": "display_data"
    },
    {
     "data": {
      "text/markdown": [
       "<span style=\"color:#33cc33\">Correct:</span> \n",
       "\n",
       "\n",
       "```python\n",
       "reviews_written = reviews.groupby('taster_twitter_handle').size()\n",
       "```\n",
       "or\n",
       "```python\n",
       "reviews_written = reviews.groupby('taster_twitter_handle').taster_twitter_handle.count()\n",
       "```\n"
      ],
      "text/plain": [
       "Correct: \n",
       "\n",
       "\n",
       "```python\n",
       "reviews_written = reviews.groupby('taster_twitter_handle').size()\n",
       "```\n",
       "or\n",
       "```python\n",
       "reviews_written = reviews.groupby('taster_twitter_handle').taster_twitter_handle.count()\n",
       "```"
      ]
     },
     "metadata": {},
     "output_type": "display_data"
    }
   ],
   "source": [
    "# Your code here\n",
    "reviews_written = reviews.groupby('taster_twitter_handle').size()\n",
    "\n",
    "# Check your answer\n",
    "q1.check()"
   ]
  },
  {
   "cell_type": "code",
   "execution_count": 3,
   "id": "8c42db02",
   "metadata": {
    "execution": {
     "iopub.execute_input": "2022-10-15T10:30:53.479773Z",
     "iopub.status.busy": "2022-10-15T10:30:53.479347Z",
     "iopub.status.idle": "2022-10-15T10:30:53.484285Z",
     "shell.execute_reply": "2022-10-15T10:30:53.482991Z"
    },
    "papermill": {
     "duration": 0.014606,
     "end_time": "2022-10-15T10:30:53.486423",
     "exception": false,
     "start_time": "2022-10-15T10:30:53.471817",
     "status": "completed"
    },
    "tags": []
   },
   "outputs": [],
   "source": [
    "#q1.hint()\n",
    "#q1.solution()"
   ]
  },
  {
   "cell_type": "markdown",
   "id": "bbad5422",
   "metadata": {
    "papermill": {
     "duration": 0.006459,
     "end_time": "2022-10-15T10:30:53.499601",
     "exception": false,
     "start_time": "2022-10-15T10:30:53.493142",
     "status": "completed"
    },
    "tags": []
   },
   "source": [
    "## 2.\n",
    "What is the best wine I can buy for a given amount of money? Create a `Series` whose index is wine prices and whose values is the maximum number of points a wine costing that much was given in a review. Sort the values by price, ascending (so that `4.0` dollars is at the top and `3300.0` dollars is at the bottom)."
   ]
  },
  {
   "cell_type": "code",
   "execution_count": 4,
   "id": "4d58f7be",
   "metadata": {
    "execution": {
     "iopub.execute_input": "2022-10-15T10:30:53.514682Z",
     "iopub.status.busy": "2022-10-15T10:30:53.514281Z",
     "iopub.status.idle": "2022-10-15T10:30:53.529021Z",
     "shell.execute_reply": "2022-10-15T10:30:53.527904Z"
    },
    "papermill": {
     "duration": 0.025146,
     "end_time": "2022-10-15T10:30:53.531491",
     "exception": false,
     "start_time": "2022-10-15T10:30:53.506345",
     "status": "completed"
    },
    "tags": []
   },
   "outputs": [
    {
     "data": {
      "application/javascript": [
       "parent.postMessage({\"jupyterEvent\": \"custom.exercise_interaction\", \"data\": {\"outcomeType\": 1, \"valueTowardsCompletion\": 0.16666666666666666, \"interactionType\": 1, \"questionType\": 1, \"questionId\": \"2_BestRatingPerPrice\", \"learnToolsVersion\": \"0.3.4\", \"failureMessage\": \"\", \"exceptionClass\": \"\", \"trace\": \"\"}}, \"*\")"
      ],
      "text/plain": [
       "<IPython.core.display.Javascript object>"
      ]
     },
     "metadata": {},
     "output_type": "display_data"
    },
    {
     "data": {
      "text/markdown": [
       "<span style=\"color:#33cc33\">Correct</span>"
      ],
      "text/plain": [
       "Correct"
      ]
     },
     "metadata": {},
     "output_type": "display_data"
    }
   ],
   "source": [
    "best_rating_per_price = reviews.groupby('price')['points'].max().sort_index()\n",
    "\n",
    "# Check your answer\n",
    "q2.check()"
   ]
  },
  {
   "cell_type": "code",
   "execution_count": 5,
   "id": "296a5410",
   "metadata": {
    "execution": {
     "iopub.execute_input": "2022-10-15T10:30:53.546458Z",
     "iopub.status.busy": "2022-10-15T10:30:53.546082Z",
     "iopub.status.idle": "2022-10-15T10:30:53.550474Z",
     "shell.execute_reply": "2022-10-15T10:30:53.549714Z"
    },
    "papermill": {
     "duration": 0.014782,
     "end_time": "2022-10-15T10:30:53.552921",
     "exception": false,
     "start_time": "2022-10-15T10:30:53.538139",
     "status": "completed"
    },
    "tags": []
   },
   "outputs": [],
   "source": [
    "#q2.hint()\n",
    "#q2.solution()"
   ]
  },
  {
   "cell_type": "markdown",
   "id": "a0315133",
   "metadata": {
    "papermill": {
     "duration": 0.006091,
     "end_time": "2022-10-15T10:30:53.565515",
     "exception": false,
     "start_time": "2022-10-15T10:30:53.559424",
     "status": "completed"
    },
    "tags": []
   },
   "source": [
    "## 3.\n",
    "What are the minimum and maximum prices for each `variety` of wine? Create a `DataFrame` whose index is the `variety` category from the dataset and whose values are the `min` and `max` values thereof."
   ]
  },
  {
   "cell_type": "code",
   "execution_count": 6,
   "id": "04b317b7",
   "metadata": {
    "execution": {
     "iopub.execute_input": "2022-10-15T10:30:53.581573Z",
     "iopub.status.busy": "2022-10-15T10:30:53.581204Z",
     "iopub.status.idle": "2022-10-15T10:30:53.604975Z",
     "shell.execute_reply": "2022-10-15T10:30:53.603984Z"
    },
    "papermill": {
     "duration": 0.033979,
     "end_time": "2022-10-15T10:30:53.607031",
     "exception": false,
     "start_time": "2022-10-15T10:30:53.573052",
     "status": "completed"
    },
    "tags": []
   },
   "outputs": [
    {
     "data": {
      "application/javascript": [
       "parent.postMessage({\"jupyterEvent\": \"custom.exercise_interaction\", \"data\": {\"outcomeType\": 1, \"valueTowardsCompletion\": 0.16666666666666666, \"interactionType\": 1, \"questionType\": 1, \"questionId\": \"3_PriceExtremes\", \"learnToolsVersion\": \"0.3.4\", \"failureMessage\": \"\", \"exceptionClass\": \"\", \"trace\": \"\"}}, \"*\")"
      ],
      "text/plain": [
       "<IPython.core.display.Javascript object>"
      ]
     },
     "metadata": {},
     "output_type": "display_data"
    },
    {
     "data": {
      "text/markdown": [
       "<span style=\"color:#33cc33\">Correct</span>"
      ],
      "text/plain": [
       "Correct"
      ]
     },
     "metadata": {},
     "output_type": "display_data"
    }
   ],
   "source": [
    "price_extremes = reviews.groupby('variety').price.agg([min, max])\n",
    "\n",
    "# Check your answer\n",
    "q3.check()"
   ]
  },
  {
   "cell_type": "code",
   "execution_count": 7,
   "id": "4c778084",
   "metadata": {
    "execution": {
     "iopub.execute_input": "2022-10-15T10:30:53.621915Z",
     "iopub.status.busy": "2022-10-15T10:30:53.621527Z",
     "iopub.status.idle": "2022-10-15T10:30:53.625901Z",
     "shell.execute_reply": "2022-10-15T10:30:53.624763Z"
    },
    "papermill": {
     "duration": 0.014678,
     "end_time": "2022-10-15T10:30:53.628235",
     "exception": false,
     "start_time": "2022-10-15T10:30:53.613557",
     "status": "completed"
    },
    "tags": []
   },
   "outputs": [],
   "source": [
    "#q3.hint()\n",
    "#q3.solution()"
   ]
  },
  {
   "cell_type": "markdown",
   "id": "db70a602",
   "metadata": {
    "papermill": {
     "duration": 0.006474,
     "end_time": "2022-10-15T10:30:53.641794",
     "exception": false,
     "start_time": "2022-10-15T10:30:53.635320",
     "status": "completed"
    },
    "tags": []
   },
   "source": [
    "## 4.\n",
    "What are the most expensive wine varieties? Create a variable `sorted_varieties` containing a copy of the dataframe from the previous question where varieties are sorted in descending order based on minimum price, then on maximum price (to break ties)."
   ]
  },
  {
   "cell_type": "code",
   "execution_count": 8,
   "id": "f6591c32",
   "metadata": {
    "execution": {
     "iopub.execute_input": "2022-10-15T10:30:53.656827Z",
     "iopub.status.busy": "2022-10-15T10:30:53.656395Z",
     "iopub.status.idle": "2022-10-15T10:30:53.667541Z",
     "shell.execute_reply": "2022-10-15T10:30:53.666804Z"
    },
    "papermill": {
     "duration": 0.021476,
     "end_time": "2022-10-15T10:30:53.669817",
     "exception": false,
     "start_time": "2022-10-15T10:30:53.648341",
     "status": "completed"
    },
    "tags": []
   },
   "outputs": [
    {
     "data": {
      "application/javascript": [
       "parent.postMessage({\"jupyterEvent\": \"custom.exercise_interaction\", \"data\": {\"outcomeType\": 1, \"valueTowardsCompletion\": 0.16666666666666666, \"interactionType\": 1, \"questionType\": 1, \"questionId\": \"4_SortedVarieties\", \"learnToolsVersion\": \"0.3.4\", \"failureMessage\": \"\", \"exceptionClass\": \"\", \"trace\": \"\"}}, \"*\")"
      ],
      "text/plain": [
       "<IPython.core.display.Javascript object>"
      ]
     },
     "metadata": {},
     "output_type": "display_data"
    },
    {
     "data": {
      "text/markdown": [
       "<span style=\"color:#33cc33\">Correct</span>"
      ],
      "text/plain": [
       "Correct"
      ]
     },
     "metadata": {},
     "output_type": "display_data"
    }
   ],
   "source": [
    "sorted_varieties = price_extremes.sort_values(by=['min', 'max'], ascending=False)\n",
    "\n",
    "# Check your answer\n",
    "q4.check()"
   ]
  },
  {
   "cell_type": "code",
   "execution_count": 9,
   "id": "0b2e40bd",
   "metadata": {
    "execution": {
     "iopub.execute_input": "2022-10-15T10:30:53.687001Z",
     "iopub.status.busy": "2022-10-15T10:30:53.686199Z",
     "iopub.status.idle": "2022-10-15T10:30:53.690789Z",
     "shell.execute_reply": "2022-10-15T10:30:53.689975Z"
    },
    "papermill": {
     "duration": 0.015702,
     "end_time": "2022-10-15T10:30:53.693090",
     "exception": false,
     "start_time": "2022-10-15T10:30:53.677388",
     "status": "completed"
    },
    "tags": []
   },
   "outputs": [],
   "source": [
    "#q4.hint()\n",
    "#q4.solution()"
   ]
  },
  {
   "cell_type": "markdown",
   "id": "94e69a8a",
   "metadata": {
    "papermill": {
     "duration": 0.0065,
     "end_time": "2022-10-15T10:30:53.706307",
     "exception": false,
     "start_time": "2022-10-15T10:30:53.699807",
     "status": "completed"
    },
    "tags": []
   },
   "source": [
    "## 5.\n",
    "Create a `Series` whose index is reviewers and whose values is the average review score given out by that reviewer. Hint: you will need the `taster_name` and `points` columns."
   ]
  },
  {
   "cell_type": "code",
   "execution_count": 10,
   "id": "d43263a8",
   "metadata": {
    "execution": {
     "iopub.execute_input": "2022-10-15T10:30:53.721541Z",
     "iopub.status.busy": "2022-10-15T10:30:53.721149Z",
     "iopub.status.idle": "2022-10-15T10:30:53.742118Z",
     "shell.execute_reply": "2022-10-15T10:30:53.740823Z"
    },
    "papermill": {
     "duration": 0.031947,
     "end_time": "2022-10-15T10:30:53.744963",
     "exception": false,
     "start_time": "2022-10-15T10:30:53.713016",
     "status": "completed"
    },
    "tags": []
   },
   "outputs": [
    {
     "data": {
      "application/javascript": [
       "parent.postMessage({\"jupyterEvent\": \"custom.exercise_interaction\", \"data\": {\"outcomeType\": 1, \"valueTowardsCompletion\": 0.16666666666666666, \"interactionType\": 1, \"questionType\": 1, \"questionId\": \"5_ReviewerMeanRatings\", \"learnToolsVersion\": \"0.3.4\", \"failureMessage\": \"\", \"exceptionClass\": \"\", \"trace\": \"\"}}, \"*\")"
      ],
      "text/plain": [
       "<IPython.core.display.Javascript object>"
      ]
     },
     "metadata": {},
     "output_type": "display_data"
    },
    {
     "data": {
      "text/markdown": [
       "<span style=\"color:#33cc33\">Correct</span>"
      ],
      "text/plain": [
       "Correct"
      ]
     },
     "metadata": {},
     "output_type": "display_data"
    }
   ],
   "source": [
    "reviewer_mean_ratings = reviews.groupby('taster_name').points.mean()\n",
    "\n",
    "# Check your answer\n",
    "q5.check()"
   ]
  },
  {
   "cell_type": "code",
   "execution_count": 11,
   "id": "0abbcf94",
   "metadata": {
    "execution": {
     "iopub.execute_input": "2022-10-15T10:30:53.761174Z",
     "iopub.status.busy": "2022-10-15T10:30:53.760781Z",
     "iopub.status.idle": "2022-10-15T10:30:53.765657Z",
     "shell.execute_reply": "2022-10-15T10:30:53.764362Z"
    },
    "papermill": {
     "duration": 0.015903,
     "end_time": "2022-10-15T10:30:53.767974",
     "exception": false,
     "start_time": "2022-10-15T10:30:53.752071",
     "status": "completed"
    },
    "tags": []
   },
   "outputs": [],
   "source": [
    "#q5.hint()\n",
    "#q5.solution()"
   ]
  },
  {
   "cell_type": "markdown",
   "id": "53082e95",
   "metadata": {
    "papermill": {
     "duration": 0.006666,
     "end_time": "2022-10-15T10:30:53.781890",
     "exception": false,
     "start_time": "2022-10-15T10:30:53.775224",
     "status": "completed"
    },
    "tags": []
   },
   "source": [
    "Are there significant differences in the average scores assigned by the various reviewers? Run the cell below to use the `describe()` method to see a summary of the range of values."
   ]
  },
  {
   "cell_type": "code",
   "execution_count": 12,
   "id": "adf58f94",
   "metadata": {
    "execution": {
     "iopub.execute_input": "2022-10-15T10:30:53.798858Z",
     "iopub.status.busy": "2022-10-15T10:30:53.797281Z",
     "iopub.status.idle": "2022-10-15T10:30:53.812609Z",
     "shell.execute_reply": "2022-10-15T10:30:53.811381Z"
    },
    "papermill": {
     "duration": 0.027626,
     "end_time": "2022-10-15T10:30:53.816470",
     "exception": false,
     "start_time": "2022-10-15T10:30:53.788844",
     "status": "completed"
    },
    "tags": []
   },
   "outputs": [
    {
     "data": {
      "text/plain": [
       "count    19.000000\n",
       "mean     88.233026\n",
       "std       1.243610\n",
       "min      85.855422\n",
       "25%      87.323501\n",
       "50%      88.536235\n",
       "75%      88.975256\n",
       "max      90.562551\n",
       "Name: points, dtype: float64"
      ]
     },
     "execution_count": 12,
     "metadata": {},
     "output_type": "execute_result"
    }
   ],
   "source": [
    "reviewer_mean_ratings.describe()"
   ]
  },
  {
   "cell_type": "markdown",
   "id": "b1a1a962",
   "metadata": {
    "papermill": {
     "duration": 0.007135,
     "end_time": "2022-10-15T10:30:53.834499",
     "exception": false,
     "start_time": "2022-10-15T10:30:53.827364",
     "status": "completed"
    },
    "tags": []
   },
   "source": [
    "## 6.\n",
    "What combination of countries and varieties are most common? Create a `Series` whose index is a `MultiIndex`of `{country, variety}` pairs. For example, a pinot noir produced in the US should map to `{\"US\", \"Pinot Noir\"}`. Sort the values in the `Series` in descending order based on wine count."
   ]
  },
  {
   "cell_type": "code",
   "execution_count": 13,
   "id": "3a0700a5",
   "metadata": {
    "execution": {
     "iopub.execute_input": "2022-10-15T10:30:53.851507Z",
     "iopub.status.busy": "2022-10-15T10:30:53.851073Z",
     "iopub.status.idle": "2022-10-15T10:30:53.888036Z",
     "shell.execute_reply": "2022-10-15T10:30:53.886847Z"
    },
    "papermill": {
     "duration": 0.048656,
     "end_time": "2022-10-15T10:30:53.890549",
     "exception": false,
     "start_time": "2022-10-15T10:30:53.841893",
     "status": "completed"
    },
    "tags": []
   },
   "outputs": [
    {
     "data": {
      "application/javascript": [
       "parent.postMessage({\"jupyterEvent\": \"custom.exercise_interaction\", \"data\": {\"outcomeType\": 1, \"valueTowardsCompletion\": 0.16666666666666666, \"interactionType\": 1, \"questionType\": 1, \"questionId\": \"6_GroupbyCountryVariety\", \"learnToolsVersion\": \"0.3.4\", \"failureMessage\": \"\", \"exceptionClass\": \"\", \"trace\": \"\"}}, \"*\")"
      ],
      "text/plain": [
       "<IPython.core.display.Javascript object>"
      ]
     },
     "metadata": {},
     "output_type": "display_data"
    },
    {
     "data": {
      "text/markdown": [
       "<span style=\"color:#33cc33\">Correct</span>"
      ],
      "text/plain": [
       "Correct"
      ]
     },
     "metadata": {},
     "output_type": "display_data"
    }
   ],
   "source": [
    "country_variety_counts = reviews.groupby(['country', 'variety']).size().sort_values(ascending=False)\n",
    "\n",
    "# Check your answer\n",
    "q6.check()"
   ]
  },
  {
   "cell_type": "code",
   "execution_count": 14,
   "id": "09ee38ad",
   "metadata": {
    "execution": {
     "iopub.execute_input": "2022-10-15T10:30:53.909157Z",
     "iopub.status.busy": "2022-10-15T10:30:53.908043Z",
     "iopub.status.idle": "2022-10-15T10:30:53.913336Z",
     "shell.execute_reply": "2022-10-15T10:30:53.912230Z"
    },
    "papermill": {
     "duration": 0.017386,
     "end_time": "2022-10-15T10:30:53.915756",
     "exception": false,
     "start_time": "2022-10-15T10:30:53.898370",
     "status": "completed"
    },
    "tags": []
   },
   "outputs": [],
   "source": [
    "#q6.hint()\n",
    "#q6.solution()"
   ]
  },
  {
   "cell_type": "markdown",
   "id": "7b801cea",
   "metadata": {
    "papermill": {
     "duration": 0.00774,
     "end_time": "2022-10-15T10:30:53.931678",
     "exception": false,
     "start_time": "2022-10-15T10:30:53.923938",
     "status": "completed"
    },
    "tags": []
   },
   "source": [
    "# Keep going\n",
    "\n",
    "Move on to the [**data types and missing data**](https://www.kaggle.com/residentmario/data-types-and-missing-values)."
   ]
  },
  {
   "cell_type": "markdown",
   "id": "ec865616",
   "metadata": {
    "papermill": {
     "duration": 0.007073,
     "end_time": "2022-10-15T10:30:53.946337",
     "exception": false,
     "start_time": "2022-10-15T10:30:53.939264",
     "status": "completed"
    },
    "tags": []
   },
   "source": [
    "---\n",
    "\n",
    "\n",
    "\n",
    "\n",
    "*Have questions or comments? Visit the [course discussion forum](https://www.kaggle.com/learn/pandas/discussion) to chat with other learners.*"
   ]
  }
 ],
 "metadata": {
  "kernelspec": {
   "display_name": "Python 3",
   "language": "python",
   "name": "python3"
  },
  "language_info": {
   "codemirror_mode": {
    "name": "ipython",
    "version": 3
   },
   "file_extension": ".py",
   "mimetype": "text/x-python",
   "name": "python",
   "nbconvert_exporter": "python",
   "pygments_lexer": "ipython3",
   "version": "3.7.12"
  },
  "papermill": {
   "default_parameters": {},
   "duration": 13.878631,
   "end_time": "2022-10-15T10:30:54.676494",
   "environment_variables": {},
   "exception": null,
   "input_path": "__notebook__.ipynb",
   "output_path": "__notebook__.ipynb",
   "parameters": {},
   "start_time": "2022-10-15T10:30:40.797863",
   "version": "2.3.4"
  }
 },
 "nbformat": 4,
 "nbformat_minor": 5
}
