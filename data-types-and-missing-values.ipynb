{
 "cells": [
  {
   "cell_type": "markdown",
   "id": "d0ae16e9",
   "metadata": {
    "papermill": {
     "duration": 0.005167,
     "end_time": "2022-10-15T10:34:02.806081",
     "exception": false,
     "start_time": "2022-10-15T10:34:02.800914",
     "status": "completed"
    },
    "tags": []
   },
   "source": [
    "**This notebook is an exercise in the [Pandas](https://www.kaggle.com/learn/pandas) course.  You can reference the tutorial at [this link](https://www.kaggle.com/residentmario/data-types-and-missing-values).**\n",
    "\n",
    "---\n"
   ]
  },
  {
   "cell_type": "markdown",
   "id": "047f11e3",
   "metadata": {
    "papermill": {
     "duration": 0.003484,
     "end_time": "2022-10-15T10:34:02.813701",
     "exception": false,
     "start_time": "2022-10-15T10:34:02.810217",
     "status": "completed"
    },
    "tags": []
   },
   "source": [
    "# Introduction\n",
    "\n",
    "Run the following cell to load your data and some utility functions."
   ]
  },
  {
   "cell_type": "code",
   "execution_count": 1,
   "id": "35151335",
   "metadata": {
    "execution": {
     "iopub.execute_input": "2022-10-15T10:34:02.822938Z",
     "iopub.status.busy": "2022-10-15T10:34:02.822430Z",
     "iopub.status.idle": "2022-10-15T10:34:05.422811Z",
     "shell.execute_reply": "2022-10-15T10:34:05.421168Z"
    },
    "papermill": {
     "duration": 2.607993,
     "end_time": "2022-10-15T10:34:05.425370",
     "exception": false,
     "start_time": "2022-10-15T10:34:02.817377",
     "status": "completed"
    },
    "tags": []
   },
   "outputs": [
    {
     "name": "stdout",
     "output_type": "stream",
     "text": [
      "Setup complete.\n"
     ]
    }
   ],
   "source": [
    "import pandas as pd\n",
    "\n",
    "reviews = pd.read_csv(\"../input/wine-reviews/winemag-data-130k-v2.csv\", index_col=0)\n",
    "\n",
    "from learntools.core import binder; binder.bind(globals())\n",
    "from learntools.pandas.data_types_and_missing_data import *\n",
    "print(\"Setup complete.\")"
   ]
  },
  {
   "cell_type": "markdown",
   "id": "6301774c",
   "metadata": {
    "papermill": {
     "duration": 0.003575,
     "end_time": "2022-10-15T10:34:05.433048",
     "exception": false,
     "start_time": "2022-10-15T10:34:05.429473",
     "status": "completed"
    },
    "tags": []
   },
   "source": [
    "# Exercises"
   ]
  },
  {
   "cell_type": "markdown",
   "id": "0f0901dd",
   "metadata": {
    "papermill": {
     "duration": 0.003483,
     "end_time": "2022-10-15T10:34:05.440342",
     "exception": false,
     "start_time": "2022-10-15T10:34:05.436859",
     "status": "completed"
    },
    "tags": []
   },
   "source": [
    "## 1. \n",
    "What is the data type of the `points` column in the dataset?"
   ]
  },
  {
   "cell_type": "code",
   "execution_count": 2,
   "id": "0fae1996",
   "metadata": {
    "execution": {
     "iopub.execute_input": "2022-10-15T10:34:05.449386Z",
     "iopub.status.busy": "2022-10-15T10:34:05.449002Z",
     "iopub.status.idle": "2022-10-15T10:34:05.459351Z",
     "shell.execute_reply": "2022-10-15T10:34:05.458268Z"
    },
    "papermill": {
     "duration": 0.017335,
     "end_time": "2022-10-15T10:34:05.461410",
     "exception": false,
     "start_time": "2022-10-15T10:34:05.444075",
     "status": "completed"
    },
    "tags": []
   },
   "outputs": [
    {
     "data": {
      "application/javascript": [
       "parent.postMessage({\"jupyterEvent\": \"custom.exercise_interaction\", \"data\": {\"outcomeType\": 1, \"valueTowardsCompletion\": 0.25, \"interactionType\": 1, \"questionType\": 1, \"questionId\": \"1_PointsDtype\", \"learnToolsVersion\": \"0.3.4\", \"failureMessage\": \"\", \"exceptionClass\": \"\", \"trace\": \"\"}}, \"*\")"
      ],
      "text/plain": [
       "<IPython.core.display.Javascript object>"
      ]
     },
     "metadata": {},
     "output_type": "display_data"
    },
    {
     "data": {
      "text/markdown": [
       "<span style=\"color:#33cc33\">Correct</span>"
      ],
      "text/plain": [
       "Correct"
      ]
     },
     "metadata": {},
     "output_type": "display_data"
    }
   ],
   "source": [
    "# Your code here\n",
    "dtype = reviews.points.dtype\n",
    "\n",
    "# Check your answer\n",
    "q1.check()"
   ]
  },
  {
   "cell_type": "code",
   "execution_count": 3,
   "id": "deb9e225",
   "metadata": {
    "execution": {
     "iopub.execute_input": "2022-10-15T10:34:05.471666Z",
     "iopub.status.busy": "2022-10-15T10:34:05.471060Z",
     "iopub.status.idle": "2022-10-15T10:34:05.474998Z",
     "shell.execute_reply": "2022-10-15T10:34:05.474003Z"
    },
    "papermill": {
     "duration": 0.012449,
     "end_time": "2022-10-15T10:34:05.478188",
     "exception": false,
     "start_time": "2022-10-15T10:34:05.465739",
     "status": "completed"
    },
    "tags": []
   },
   "outputs": [],
   "source": [
    "#q1.hint()\n",
    "#q1.solution()"
   ]
  },
  {
   "cell_type": "markdown",
   "id": "8c0e3635",
   "metadata": {
    "papermill": {
     "duration": 0.003888,
     "end_time": "2022-10-15T10:34:05.486715",
     "exception": false,
     "start_time": "2022-10-15T10:34:05.482827",
     "status": "completed"
    },
    "tags": []
   },
   "source": [
    "## 2. \n",
    "Create a Series from entries in the `points` column, but convert the entries to strings. Hint: strings are `str` in native Python."
   ]
  },
  {
   "cell_type": "code",
   "execution_count": 4,
   "id": "21c06f33",
   "metadata": {
    "execution": {
     "iopub.execute_input": "2022-10-15T10:34:05.497061Z",
     "iopub.status.busy": "2022-10-15T10:34:05.496658Z",
     "iopub.status.idle": "2022-10-15T10:34:05.566445Z",
     "shell.execute_reply": "2022-10-15T10:34:05.565062Z"
    },
    "papermill": {
     "duration": 0.078128,
     "end_time": "2022-10-15T10:34:05.569019",
     "exception": false,
     "start_time": "2022-10-15T10:34:05.490891",
     "status": "completed"
    },
    "tags": []
   },
   "outputs": [
    {
     "data": {
      "application/javascript": [
       "parent.postMessage({\"jupyterEvent\": \"custom.exercise_interaction\", \"data\": {\"outcomeType\": 1, \"valueTowardsCompletion\": 0.25, \"interactionType\": 1, \"questionType\": 1, \"questionId\": \"2_StrPoints\", \"learnToolsVersion\": \"0.3.4\", \"failureMessage\": \"\", \"exceptionClass\": \"\", \"trace\": \"\"}}, \"*\")"
      ],
      "text/plain": [
       "<IPython.core.display.Javascript object>"
      ]
     },
     "metadata": {},
     "output_type": "display_data"
    },
    {
     "data": {
      "text/markdown": [
       "<span style=\"color:#33cc33\">Correct</span>"
      ],
      "text/plain": [
       "Correct"
      ]
     },
     "metadata": {},
     "output_type": "display_data"
    }
   ],
   "source": [
    "point_strings = reviews.points.astype(str)\n",
    "\n",
    "# Check your answer\n",
    "q2.check()"
   ]
  },
  {
   "cell_type": "code",
   "execution_count": 5,
   "id": "a71a0ad0",
   "metadata": {
    "execution": {
     "iopub.execute_input": "2022-10-15T10:34:05.579331Z",
     "iopub.status.busy": "2022-10-15T10:34:05.578975Z",
     "iopub.status.idle": "2022-10-15T10:34:05.583046Z",
     "shell.execute_reply": "2022-10-15T10:34:05.582014Z"
    },
    "papermill": {
     "duration": 0.011438,
     "end_time": "2022-10-15T10:34:05.584880",
     "exception": false,
     "start_time": "2022-10-15T10:34:05.573442",
     "status": "completed"
    },
    "tags": []
   },
   "outputs": [],
   "source": [
    "#q2.hint()\n",
    "#q2.solution()"
   ]
  },
  {
   "cell_type": "markdown",
   "id": "6b38b84b",
   "metadata": {
    "papermill": {
     "duration": 0.004197,
     "end_time": "2022-10-15T10:34:05.593973",
     "exception": false,
     "start_time": "2022-10-15T10:34:05.589776",
     "status": "completed"
    },
    "tags": []
   },
   "source": [
    "## 3.\n",
    "Sometimes the price column is null. How many reviews in the dataset are missing a price?"
   ]
  },
  {
   "cell_type": "code",
   "execution_count": 6,
   "id": "61b34a69",
   "metadata": {
    "execution": {
     "iopub.execute_input": "2022-10-15T10:34:05.604588Z",
     "iopub.status.busy": "2022-10-15T10:34:05.604260Z",
     "iopub.status.idle": "2022-10-15T10:34:05.612057Z",
     "shell.execute_reply": "2022-10-15T10:34:05.610901Z"
    },
    "papermill": {
     "duration": 0.015918,
     "end_time": "2022-10-15T10:34:05.614417",
     "exception": false,
     "start_time": "2022-10-15T10:34:05.598499",
     "status": "completed"
    },
    "tags": []
   },
   "outputs": [
    {
     "data": {
      "application/javascript": [
       "parent.postMessage({\"jupyterEvent\": \"custom.exercise_interaction\", \"data\": {\"outcomeType\": 1, \"valueTowardsCompletion\": 0.25, \"interactionType\": 1, \"questionType\": 1, \"questionId\": \"3_CountMissingPrices\", \"learnToolsVersion\": \"0.3.4\", \"failureMessage\": \"\", \"exceptionClass\": \"\", \"trace\": \"\"}}, \"*\")"
      ],
      "text/plain": [
       "<IPython.core.display.Javascript object>"
      ]
     },
     "metadata": {},
     "output_type": "display_data"
    },
    {
     "data": {
      "text/markdown": [
       "<span style=\"color:#33cc33\">Correct</span>"
      ],
      "text/plain": [
       "Correct"
      ]
     },
     "metadata": {},
     "output_type": "display_data"
    }
   ],
   "source": [
    "n_missing_prices = pd.isnull(reviews.price).sum()\n",
    "\n",
    "# Check your answer\n",
    "q3.check()"
   ]
  },
  {
   "cell_type": "code",
   "execution_count": 7,
   "id": "ba999d75",
   "metadata": {
    "execution": {
     "iopub.execute_input": "2022-10-15T10:34:05.627140Z",
     "iopub.status.busy": "2022-10-15T10:34:05.624827Z",
     "iopub.status.idle": "2022-10-15T10:34:05.630777Z",
     "shell.execute_reply": "2022-10-15T10:34:05.629657Z"
    },
    "papermill": {
     "duration": 0.014267,
     "end_time": "2022-10-15T10:34:05.633448",
     "exception": false,
     "start_time": "2022-10-15T10:34:05.619181",
     "status": "completed"
    },
    "tags": []
   },
   "outputs": [],
   "source": [
    "#q3.hint()\n",
    "#q3.solution()"
   ]
  },
  {
   "cell_type": "markdown",
   "id": "2b294267",
   "metadata": {
    "papermill": {
     "duration": 0.004286,
     "end_time": "2022-10-15T10:34:05.642509",
     "exception": false,
     "start_time": "2022-10-15T10:34:05.638223",
     "status": "completed"
    },
    "tags": []
   },
   "source": [
    "## 4.\n",
    "What are the most common wine-producing regions? Create a Series counting the number of times each value occurs in the `region_1` field. This field is often missing data, so replace missing values with `Unknown`. Sort in descending order.  Your output should look something like this:\n",
    "\n",
    "```\n",
    "Unknown                    21247\n",
    "Napa Valley                 4480\n",
    "                           ...  \n",
    "Bardolino Superiore            1\n",
    "Primitivo del Tarantino        1\n",
    "Name: region_1, Length: 1230, dtype: int64\n",
    "```"
   ]
  },
  {
   "cell_type": "code",
   "execution_count": 8,
   "id": "568aa8f4",
   "metadata": {
    "execution": {
     "iopub.execute_input": "2022-10-15T10:34:05.654357Z",
     "iopub.status.busy": "2022-10-15T10:34:05.653746Z",
     "iopub.status.idle": "2022-10-15T10:34:05.688561Z",
     "shell.execute_reply": "2022-10-15T10:34:05.687188Z"
    },
    "papermill": {
     "duration": 0.044358,
     "end_time": "2022-10-15T10:34:05.691365",
     "exception": false,
     "start_time": "2022-10-15T10:34:05.647007",
     "status": "completed"
    },
    "tags": []
   },
   "outputs": [
    {
     "data": {
      "application/javascript": [
       "parent.postMessage({\"jupyterEvent\": \"custom.exercise_interaction\", \"data\": {\"outcomeType\": 1, \"valueTowardsCompletion\": 0.25, \"interactionType\": 1, \"questionType\": 2, \"questionId\": \"4_ReviewsPerRegion\", \"learnToolsVersion\": \"0.3.4\", \"failureMessage\": \"\", \"exceptionClass\": \"\", \"trace\": \"\"}}, \"*\")"
      ],
      "text/plain": [
       "<IPython.core.display.Javascript object>"
      ]
     },
     "metadata": {},
     "output_type": "display_data"
    },
    {
     "data": {
      "text/markdown": [
       "<span style=\"color:#33cc33\">Correct</span>"
      ],
      "text/plain": [
       "Correct"
      ]
     },
     "metadata": {},
     "output_type": "display_data"
    }
   ],
   "source": [
    "reviews_per_region = reviews.region_1.fillna('Unknown').value_counts().sort_values(ascending=False)\n",
    "\n",
    "# Check your answer\n",
    "q4.check()"
   ]
  },
  {
   "cell_type": "code",
   "execution_count": 9,
   "id": "d961d18b",
   "metadata": {
    "execution": {
     "iopub.execute_input": "2022-10-15T10:34:05.702812Z",
     "iopub.status.busy": "2022-10-15T10:34:05.702447Z",
     "iopub.status.idle": "2022-10-15T10:34:05.706480Z",
     "shell.execute_reply": "2022-10-15T10:34:05.705588Z"
    },
    "papermill": {
     "duration": 0.012487,
     "end_time": "2022-10-15T10:34:05.708862",
     "exception": false,
     "start_time": "2022-10-15T10:34:05.696375",
     "status": "completed"
    },
    "tags": []
   },
   "outputs": [],
   "source": [
    "#q4.hint()\n",
    "#q4.solution()"
   ]
  },
  {
   "cell_type": "markdown",
   "id": "35d1c544",
   "metadata": {
    "papermill": {
     "duration": 0.004434,
     "end_time": "2022-10-15T10:34:05.718136",
     "exception": false,
     "start_time": "2022-10-15T10:34:05.713702",
     "status": "completed"
    },
    "tags": []
   },
   "source": [
    "# Keep going\n",
    "\n",
    "Move on to **[renaming and combining](https://www.kaggle.com/residentmario/renaming-and-combining)**."
   ]
  },
  {
   "cell_type": "markdown",
   "id": "0762d023",
   "metadata": {
    "papermill": {
     "duration": 0.004466,
     "end_time": "2022-10-15T10:34:05.727201",
     "exception": false,
     "start_time": "2022-10-15T10:34:05.722735",
     "status": "completed"
    },
    "tags": []
   },
   "source": [
    "---\n",
    "\n",
    "\n",
    "\n",
    "\n",
    "*Have questions or comments? Visit the [course discussion forum](https://www.kaggle.com/learn/pandas/discussion) to chat with other learners.*"
   ]
  }
 ],
 "metadata": {
  "kernelspec": {
   "display_name": "Python 3",
   "language": "python",
   "name": "python3"
  },
  "language_info": {
   "codemirror_mode": {
    "name": "ipython",
    "version": 3
   },
   "file_extension": ".py",
   "mimetype": "text/x-python",
   "name": "python",
   "nbconvert_exporter": "python",
   "pygments_lexer": "ipython3",
   "version": "3.7.12"
  },
  "papermill": {
   "default_parameters": {},
   "duration": 11.842287,
   "end_time": "2022-10-15T10:34:06.353566",
   "environment_variables": {},
   "exception": null,
   "input_path": "__notebook__.ipynb",
   "output_path": "__notebook__.ipynb",
   "parameters": {},
   "start_time": "2022-10-15T10:33:54.511279",
   "version": "2.3.4"
  }
 },
 "nbformat": 4,
 "nbformat_minor": 5
}
